{
  "nbformat": 4,
  "nbformat_minor": 0,
  "metadata": {
    "colab": {
      "private_outputs": true,
      "provenance": []
    },
    "kernelspec": {
      "name": "python3",
      "display_name": "Python 3"
    },
    "language_info": {
      "name": "python"
    },
    "accelerator": "GPU",
    "gpuClass": "standard"
  },
  "cells": [
    {
      "cell_type": "code",
      "execution_count": null,
      "metadata": {
        "id": "JuOzZqA9AGRR"
      },
      "outputs": [],
      "source": [
        "https://post.naver.com/viewer/postView.naver?volumeNo=32695821&vType=VERTICAL"
      ]
    },
    {
      "cell_type": "code",
      "source": [
        "import numpy as np\n",
        "import pandas as pd\n",
        "\n",
        "raw_data_anime = pd.read_csv(\"/content/drive/MyDrive/오픈소스 SW/anime.csv\")\n",
        "raw_data_rating = pd.read_csv(\"/content/drive/MyDrive/오픈소스 SW/rating.csv\")"
      ],
      "metadata": {
        "id": "vCoN8GXoCFgg"
      },
      "execution_count": null,
      "outputs": []
    },
    {
      "cell_type": "code",
      "source": [
        "display(raw_data_anime.head())\n",
        "raw_data_rating.head()"
      ],
      "metadata": {
        "id": "ZpGUbZvVCfkD"
      },
      "execution_count": null,
      "outputs": []
    },
    {
      "cell_type": "code",
      "source": [
        "raw_data_anime[\"name\"] = raw_data_anime.name.str.replace(\"&quot;\",\"\")\n",
        "raw_data_anime[\"name\"] = raw_data_anime.name.str.replace(\"&#039\",\"\")"
      ],
      "metadata": {
        "id": "5kOn_gW3CpwY"
      },
      "execution_count": null,
      "outputs": []
    },
    {
      "cell_type": "code",
      "source": [
        "data_user_rating = raw_data_rating[raw_data_rating.rating != -1]\n",
        "data_user_rating.reset_index(drop=True,inplace=True)\n",
        "data_user_rating"
      ],
      "metadata": {
        "id": "RkAfR36GDdvA"
      },
      "execution_count": null,
      "outputs": []
    },
    {
      "cell_type": "code",
      "source": [
        "rated_anime_id_list = data_user_rating[\"anime_id\"].unique()\n",
        "raw_data_anime = raw_data_anime[raw_data_anime[\"anime_id\"].isin(rated_anime_id_list)]\n",
        "raw_data_anime"
      ],
      "metadata": {
        "id": "n0jY0l89D4QP"
      },
      "execution_count": null,
      "outputs": []
    },
    {
      "cell_type": "code",
      "source": [
        "type_list = raw_data_anime[\"type\"].unique()[:-1]\n",
        "tag_list = type_list\n",
        "tag_list"
      ],
      "metadata": {
        "id": "I1uiHYNNEP6V"
      },
      "execution_count": null,
      "outputs": []
    },
    {
      "cell_type": "code",
      "source": [
        "raw_data_anime[tag_list] = \"-\""
      ],
      "metadata": {
        "id": "S-l7kaimE2du"
      },
      "execution_count": null,
      "outputs": []
    },
    {
      "cell_type": "code",
      "source": [
        "for t in type_list:\n",
        "  raw_data_anime[t] = np.where(raw_data_anime[\"type\"] == t,\"o\",\"-\")\n",
        "  \n",
        "raw_data_anime = raw_data_anime.drop(columns=[\"type\",\"episodes\",\"members\"])\n",
        "raw_data_anime"
      ],
      "metadata": {
        "id": "8b_Eg6gWE78N"
      },
      "execution_count": null,
      "outputs": []
    },
    {
      "cell_type": "code",
      "source": [],
      "metadata": {
        "id": "zWsJPJwiFY7F"
      },
      "execution_count": null,
      "outputs": []
    }
  ]
}