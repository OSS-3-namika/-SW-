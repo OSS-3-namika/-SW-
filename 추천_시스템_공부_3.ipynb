{
  "nbformat": 4,
  "nbformat_minor": 0,
  "metadata": {
    "colab": {
      "provenance": []
    },
    "kernelspec": {
      "name": "python3",
      "display_name": "Python 3"
    },
    "language_info": {
      "name": "python"
    }
  },
  "cells": [
    {
      "cell_type": "code",
      "execution_count": 5,
      "metadata": {
        "id": "RA_xy4jaiQKq"
      },
      "outputs": [],
      "source": [
        "'''Main'''\n",
        "import numpy as np\n",
        "import pandas as pd\n",
        "import os, time, re\n",
        "import pickle, gzip, datetime\n",
        "from datetime import datetime\n",
        "\n",
        "'''Data Viz'''\n",
        "import matplotlib.pyplot as plt\n",
        "import seaborn as sns\n",
        "color = sns.color_palette()\n",
        "import matplotlib as mpl\n",
        "\n",
        "%matplotlib inline\n",
        "\n",
        "'''Data Prep and Model Evaluation'''\n",
        "from sklearn import preprocessing as pp\n",
        "from sklearn.model_selection import train_test_split \n",
        "from sklearn.model_selection import StratifiedKFold \n",
        "from sklearn.metrics import log_loss\n",
        "from sklearn.metrics import precision_recall_curve, average_precision_score\n",
        "from sklearn.metrics import roc_curve, auc, roc_auc_score, mean_squared_error\n",
        "\n",
        "'''Algos'''\n",
        "import lightgbm as lgb\n",
        "\n",
        "'''TensorFlow and Keras'''\n",
        "# import tensorflow as tf\n",
        "# import tensorflow as tf\n",
        "import keras\n",
        "from keras import backend as K\n",
        "from keras.models import Sequential, Model\n",
        "from keras.layers import Activation, Dense, Dropout\n",
        "from keras.layers import BatchNormalization, Input, Lambda\n",
        "from keras.layers import Embedding, Flatten, dot\n",
        "from keras import regularizers\n",
        "from keras.losses import mse, binary_crossentropy\n",
        "\n",
        "sns.set(\"talk\")"
      ]
    },
    {
      "cell_type": "code",
      "source": [
        "ratingDFX3 = pd.read_pickle(\"/content/drive/MyDrive/오픈소스 SW/ratingReducedPickle.pkl\")\n",
        "\n",
        "# 中身確認\n",
        "n_users = ratingDFX3.userId.unique().shape[0]\n",
        "n_movies = ratingDFX3.movieId.unique().shape[0]\n",
        "n_ratings = len(ratingDFX3)\n",
        "avg_ratings_per_user = n_ratings/n_users\n",
        "\n",
        "print('Number of unique users: ', n_users)\n",
        "print('Number of unique movies: ', n_movies)\n",
        "print('Number of total ratings: ', n_ratings)\n",
        "print('Average number of ratings per user: ', avg_ratings_per_user)\n",
        "\"\"\"\n",
        "Number of unique users:  1000\n",
        "Number of unique movies:  1000\n",
        "Number of total ratings:  90213\n",
        "Average number of ratings per user:  90.213\n",
        "\"\"\"\n",
        "\n",
        "ratingDFX3.head()"
      ],
      "metadata": {
        "colab": {
          "base_uri": "https://localhost:8080/",
          "height": 278
        },
        "id": "wsHeY-pcidak",
        "outputId": "f254f69b-aa08-4bed-8703-f3bba7e224ee"
      },
      "execution_count": 7,
      "outputs": [
        {
          "output_type": "stream",
          "name": "stdout",
          "text": [
            "Number of unique users:  1000\n",
            "Number of unique movies:  1000\n",
            "Number of total ratings:  90213\n",
            "Average number of ratings per user:  90.213\n"
          ]
        },
        {
          "output_type": "execute_result",
          "data": {
            "text/plain": [
              "   userId  movieId  rating           timestamp  newMovieId  newUserId\n",
              "0      49       50     5.0  2013-05-03 02:5026           1          1\n",
              "1      49      163     3.5  2013-05-03 02:4337           2          1\n",
              "2      49      216     3.0  2013-05-03 02:4558           3          1\n",
              "3      49      296     5.0  2013-05-03 02:5013           4          1\n",
              "4      49      333     3.0  2013-05-03 02:4438           5          1"
            ],
            "text/html": [
              "\n",
              "  <div id=\"df-b944fc6e-7fd2-4afb-9d0e-0d79444a03d5\">\n",
              "    <div class=\"colab-df-container\">\n",
              "      <div>\n",
              "<style scoped>\n",
              "    .dataframe tbody tr th:only-of-type {\n",
              "        vertical-align: middle;\n",
              "    }\n",
              "\n",
              "    .dataframe tbody tr th {\n",
              "        vertical-align: top;\n",
              "    }\n",
              "\n",
              "    .dataframe thead th {\n",
              "        text-align: right;\n",
              "    }\n",
              "</style>\n",
              "<table border=\"1\" class=\"dataframe\">\n",
              "  <thead>\n",
              "    <tr style=\"text-align: right;\">\n",
              "      <th></th>\n",
              "      <th>userId</th>\n",
              "      <th>movieId</th>\n",
              "      <th>rating</th>\n",
              "      <th>timestamp</th>\n",
              "      <th>newMovieId</th>\n",
              "      <th>newUserId</th>\n",
              "    </tr>\n",
              "  </thead>\n",
              "  <tbody>\n",
              "    <tr>\n",
              "      <th>0</th>\n",
              "      <td>49</td>\n",
              "      <td>50</td>\n",
              "      <td>5.0</td>\n",
              "      <td>2013-05-03 02:5026</td>\n",
              "      <td>1</td>\n",
              "      <td>1</td>\n",
              "    </tr>\n",
              "    <tr>\n",
              "      <th>1</th>\n",
              "      <td>49</td>\n",
              "      <td>163</td>\n",
              "      <td>3.5</td>\n",
              "      <td>2013-05-03 02:4337</td>\n",
              "      <td>2</td>\n",
              "      <td>1</td>\n",
              "    </tr>\n",
              "    <tr>\n",
              "      <th>2</th>\n",
              "      <td>49</td>\n",
              "      <td>216</td>\n",
              "      <td>3.0</td>\n",
              "      <td>2013-05-03 02:4558</td>\n",
              "      <td>3</td>\n",
              "      <td>1</td>\n",
              "    </tr>\n",
              "    <tr>\n",
              "      <th>3</th>\n",
              "      <td>49</td>\n",
              "      <td>296</td>\n",
              "      <td>5.0</td>\n",
              "      <td>2013-05-03 02:5013</td>\n",
              "      <td>4</td>\n",
              "      <td>1</td>\n",
              "    </tr>\n",
              "    <tr>\n",
              "      <th>4</th>\n",
              "      <td>49</td>\n",
              "      <td>333</td>\n",
              "      <td>3.0</td>\n",
              "      <td>2013-05-03 02:4438</td>\n",
              "      <td>5</td>\n",
              "      <td>1</td>\n",
              "    </tr>\n",
              "  </tbody>\n",
              "</table>\n",
              "</div>\n",
              "      <button class=\"colab-df-convert\" onclick=\"convertToInteractive('df-b944fc6e-7fd2-4afb-9d0e-0d79444a03d5')\"\n",
              "              title=\"Convert this dataframe to an interactive table.\"\n",
              "              style=\"display:none;\">\n",
              "        \n",
              "  <svg xmlns=\"http://www.w3.org/2000/svg\" height=\"24px\"viewBox=\"0 0 24 24\"\n",
              "       width=\"24px\">\n",
              "    <path d=\"M0 0h24v24H0V0z\" fill=\"none\"/>\n",
              "    <path d=\"M18.56 5.44l.94 2.06.94-2.06 2.06-.94-2.06-.94-.94-2.06-.94 2.06-2.06.94zm-11 1L8.5 8.5l.94-2.06 2.06-.94-2.06-.94L8.5 2.5l-.94 2.06-2.06.94zm10 10l.94 2.06.94-2.06 2.06-.94-2.06-.94-.94-2.06-.94 2.06-2.06.94z\"/><path d=\"M17.41 7.96l-1.37-1.37c-.4-.4-.92-.59-1.43-.59-.52 0-1.04.2-1.43.59L10.3 9.45l-7.72 7.72c-.78.78-.78 2.05 0 2.83L4 21.41c.39.39.9.59 1.41.59.51 0 1.02-.2 1.41-.59l7.78-7.78 2.81-2.81c.8-.78.8-2.07 0-2.86zM5.41 20L4 18.59l7.72-7.72 1.47 1.35L5.41 20z\"/>\n",
              "  </svg>\n",
              "      </button>\n",
              "      \n",
              "  <style>\n",
              "    .colab-df-container {\n",
              "      display:flex;\n",
              "      flex-wrap:wrap;\n",
              "      gap: 12px;\n",
              "    }\n",
              "\n",
              "    .colab-df-convert {\n",
              "      background-color: #E8F0FE;\n",
              "      border: none;\n",
              "      border-radius: 50%;\n",
              "      cursor: pointer;\n",
              "      display: none;\n",
              "      fill: #1967D2;\n",
              "      height: 32px;\n",
              "      padding: 0 0 0 0;\n",
              "      width: 32px;\n",
              "    }\n",
              "\n",
              "    .colab-df-convert:hover {\n",
              "      background-color: #E2EBFA;\n",
              "      box-shadow: 0px 1px 2px rgba(60, 64, 67, 0.3), 0px 1px 3px 1px rgba(60, 64, 67, 0.15);\n",
              "      fill: #174EA6;\n",
              "    }\n",
              "\n",
              "    [theme=dark] .colab-df-convert {\n",
              "      background-color: #3B4455;\n",
              "      fill: #D2E3FC;\n",
              "    }\n",
              "\n",
              "    [theme=dark] .colab-df-convert:hover {\n",
              "      background-color: #434B5C;\n",
              "      box-shadow: 0px 1px 3px 1px rgba(0, 0, 0, 0.15);\n",
              "      filter: drop-shadow(0px 1px 2px rgba(0, 0, 0, 0.3));\n",
              "      fill: #FFFFFF;\n",
              "    }\n",
              "  </style>\n",
              "\n",
              "      <script>\n",
              "        const buttonEl =\n",
              "          document.querySelector('#df-b944fc6e-7fd2-4afb-9d0e-0d79444a03d5 button.colab-df-convert');\n",
              "        buttonEl.style.display =\n",
              "          google.colab.kernel.accessAllowed ? 'block' : 'none';\n",
              "\n",
              "        async function convertToInteractive(key) {\n",
              "          const element = document.querySelector('#df-b944fc6e-7fd2-4afb-9d0e-0d79444a03d5');\n",
              "          const dataTable =\n",
              "            await google.colab.kernel.invokeFunction('convertToInteractive',\n",
              "                                                     [key], {});\n",
              "          if (!dataTable) return;\n",
              "\n",
              "          const docLinkHtml = 'Like what you see? Visit the ' +\n",
              "            '<a target=\"_blank\" href=https://colab.research.google.com/notebooks/data_table.ipynb>data table notebook</a>'\n",
              "            + ' to learn more about interactive tables.';\n",
              "          element.innerHTML = '';\n",
              "          dataTable['output_type'] = 'display_data';\n",
              "          await google.colab.output.renderOutput(dataTable, element);\n",
              "          const docLink = document.createElement('div');\n",
              "          docLink.innerHTML = docLinkHtml;\n",
              "          element.appendChild(docLink);\n",
              "        }\n",
              "      </script>\n",
              "    </div>\n",
              "  </div>\n",
              "  "
            ]
          },
          "metadata": {},
          "execution_count": 7
        }
      ]
    },
    {
      "cell_type": "code",
      "source": [
        "# 訓練データと学習データの切り分け\n",
        "X_train, X_test = train_test_split(ratingDFX3, test_size=0.10, \\\n",
        "                                   shuffle=True, random_state=2018)\n",
        "\n",
        "X_validation, X_test = train_test_split(X_test, test_size=0.50, \\\n",
        "                                        shuffle=True, random_state=2018)\n"
      ],
      "metadata": {
        "id": "hgyy_mXViddD"
      },
      "execution_count": 8,
      "outputs": []
    },
    {
      "cell_type": "code",
      "source": [
        "#格付け行列を作成する、ほとんどがゼロのスパース行列となる\n",
        "ratings_train = np.zeros((n_users,n_movies))\n",
        "for row in X_train.itertuples():\n",
        "  ratings_train[row[6]-1,row[5]-1] = row[3]\n",
        "\n",
        "ratings_train.shape\n",
        "#(1000,1000)\n",
        "\n",
        "# 検証データの格付け行列\n",
        "ratings_validation = np.zeros((n_users, n_movies))\n",
        "for row in X_validation.itertuples():\n",
        "    ratings_validation[row[6]-1, row[5]-1] = row[3]\n",
        "\n",
        "#検証データをフラット化\n",
        "actual_validation = ratings_validation[ratings_validation.nonzero()].flatten()"
      ],
      "metadata": {
        "id": "FQ-sn--Didh4"
      },
      "execution_count": 9,
      "outputs": []
    },
    {
      "cell_type": "code",
      "source": [
        "#予測値を3.5としたときの二乗誤差(MSE)を検証セットに対して計算\n",
        "#これをベースラインとする\n",
        "\n",
        "pred_validation = np.zeros((len(X_validation),1))\n",
        "pred_validation[pred_validation==0] = 3.5\n",
        "\n",
        "print(\"3.5 MSE:\",mean_squared_error(pred_validation,actual_validation))\n",
        "#3.5 MSE: 1.055420084238528"
      ],
      "metadata": {
        "colab": {
          "base_uri": "https://localhost:8080/"
        },
        "id": "CZl9eZOHidlo",
        "outputId": "76e59b82-a72e-477d-f141-8cec95aa586f"
      },
      "execution_count": 10,
      "outputs": [
        {
          "output_type": "stream",
          "name": "stdout",
          "text": [
            "3.5 MSE: 1.055420084238528\n"
          ]
        }
      ]
    },
    {
      "cell_type": "code",
      "source": [
        "#行列分解\n",
        "#ユーザとアイテムの次元を減らして圧縮する\n",
        "\n",
        "n_latent_factors = 3 #潜在因子、何次元に埋め込むか\n",
        "\n",
        "#kerasで圧縮されたユーザ列の作成\n",
        "user_input = Input(shape=[1], name=\"user\")\n",
        "user_embedding = Embedding(input_dim=n_users+1, output_dim=n_latent_factors,name=\"user_embedding\")(user_input)\n",
        "user_vec = Flatten(name=\"flatten_users\")(user_embedding)\n",
        "\n",
        "#kerasで圧縮された映画列の作成\n",
        "movie_input = Input(shape=[1], name='movie')\n",
        "movie_embedding = Embedding(input_dim=n_movies + 1, \\\n",
        "                            output_dim=n_latent_factors,\n",
        "                            name='movie_embedding')(movie_input)\n",
        "movie_vec = Flatten(name='flatten_movies')(movie_embedding)\n",
        "\n",
        "\n",
        "product = dot([movie_vec, user_vec], axes=1)\n",
        "model = Model(inputs=[user_input, movie_input], outputs=product)\n",
        "model.compile('adam', 'mean_squared_error')\n",
        "\n",
        "history = model.fit(x=[X_train.newUserId, X_train.newMovieId], \\\n",
        "                    y=X_train.rating, epochs=30, \\\n",
        "                    validation_data=([X_validation.newUserId, \\\n",
        "                    X_validation.newMovieId], X_validation.rating), \\\n",
        "                    verbose=1)\n"
      ],
      "metadata": {
        "colab": {
          "base_uri": "https://localhost:8080/"
        },
        "id": "98QpTiMPidoK",
        "outputId": "4bdfe963-b461-4c07-a39a-f0d5fa0df22a"
      },
      "execution_count": 11,
      "outputs": [
        {
          "output_type": "stream",
          "name": "stdout",
          "text": [
            "Epoch 1/30\n",
            "2538/2538 [==============================] - 8s 3ms/step - loss: 12.4375 - val_loss: 8.2194\n",
            "Epoch 2/30\n",
            "2538/2538 [==============================] - 9s 4ms/step - loss: 4.6380 - val_loss: 2.6114\n",
            "Epoch 3/30\n",
            "2538/2538 [==============================] - 7s 3ms/step - loss: 1.8152 - val_loss: 1.3851\n",
            "Epoch 4/30\n",
            "2538/2538 [==============================] - 6s 2ms/step - loss: 1.0893 - val_loss: 1.0002\n",
            "Epoch 5/30\n",
            "2538/2538 [==============================] - 5s 2ms/step - loss: 0.8564 - val_loss: 0.8744\n",
            "Epoch 6/30\n",
            "2538/2538 [==============================] - 5s 2ms/step - loss: 0.7785 - val_loss: 0.8257\n",
            "Epoch 7/30\n",
            "2538/2538 [==============================] - 5s 2ms/step - loss: 0.7519 - val_loss: 0.8094\n",
            "Epoch 8/30\n",
            "2538/2538 [==============================] - 5s 2ms/step - loss: 0.7419 - val_loss: 0.8085\n",
            "Epoch 9/30\n",
            "2538/2538 [==============================] - 6s 2ms/step - loss: 0.7382 - val_loss: 0.8039\n",
            "Epoch 10/30\n",
            "2538/2538 [==============================] - 6s 2ms/step - loss: 0.7368 - val_loss: 0.8011\n",
            "Epoch 11/30\n",
            "2538/2538 [==============================] - 5s 2ms/step - loss: 0.7360 - val_loss: 0.8011\n",
            "Epoch 12/30\n",
            "2538/2538 [==============================] - 6s 2ms/step - loss: 0.7355 - val_loss: 0.7993\n",
            "Epoch 13/30\n",
            "2538/2538 [==============================] - 5s 2ms/step - loss: 0.7349 - val_loss: 0.8013\n",
            "Epoch 14/30\n",
            "2538/2538 [==============================] - 6s 2ms/step - loss: 0.7348 - val_loss: 0.7990\n",
            "Epoch 15/30\n",
            "2538/2538 [==============================] - 5s 2ms/step - loss: 0.7344 - val_loss: 0.8013\n",
            "Epoch 16/30\n",
            "2538/2538 [==============================] - 5s 2ms/step - loss: 0.7341 - val_loss: 0.7975\n",
            "Epoch 17/30\n",
            "2538/2538 [==============================] - 6s 2ms/step - loss: 0.7339 - val_loss: 0.8017\n",
            "Epoch 18/30\n",
            "2538/2538 [==============================] - 5s 2ms/step - loss: 0.7334 - val_loss: 0.7976\n",
            "Epoch 19/30\n",
            "2538/2538 [==============================] - 5s 2ms/step - loss: 0.7329 - val_loss: 0.8000\n",
            "Epoch 20/30\n",
            "2538/2538 [==============================] - 7s 3ms/step - loss: 0.7325 - val_loss: 0.7985\n",
            "Epoch 21/30\n",
            "2538/2538 [==============================] - 5s 2ms/step - loss: 0.7317 - val_loss: 0.7994\n",
            "Epoch 22/30\n",
            "2538/2538 [==============================] - 6s 3ms/step - loss: 0.7307 - val_loss: 0.7955\n",
            "Epoch 23/30\n",
            "2538/2538 [==============================] - 5s 2ms/step - loss: 0.7303 - val_loss: 0.7955\n",
            "Epoch 24/30\n",
            "2538/2538 [==============================] - 5s 2ms/step - loss: 0.7290 - val_loss: 0.7972\n",
            "Epoch 25/30\n",
            "2538/2538 [==============================] - 6s 2ms/step - loss: 0.7281 - val_loss: 0.7963\n",
            "Epoch 26/30\n",
            "2538/2538 [==============================] - 5s 2ms/step - loss: 0.7268 - val_loss: 0.7958\n",
            "Epoch 27/30\n",
            "2538/2538 [==============================] - 5s 2ms/step - loss: 0.7251 - val_loss: 0.7947\n",
            "Epoch 28/30\n",
            "2538/2538 [==============================] - 6s 2ms/step - loss: 0.7236 - val_loss: 0.7962\n",
            "Epoch 29/30\n",
            "2538/2538 [==============================] - 5s 2ms/step - loss: 0.7217 - val_loss: 0.7937\n",
            "Epoch 30/30\n",
            "2538/2538 [==============================] - 5s 2ms/step - loss: 0.7195 - val_loss: 0.7944\n"
          ]
        }
      ]
    },
    {
      "cell_type": "code",
      "source": [
        "\n",
        "pd.Series(history.history['val_loss'][10:]).plot(logy=False)\n",
        "plt.xlabel(\"Epoch\")\n",
        "plt.ylabel(\"Validation Error\")\n",
        "print('Minimum MSE: ', min(history.history['val_loss']))\n",
        "#Minimum MSE:  0.7946764826774597\n"
      ],
      "metadata": {
        "colab": {
          "base_uri": "https://localhost:8080/",
          "height": 497
        },
        "id": "MToMjqRoidsd",
        "outputId": "d83b7a7a-4472-4d88-c5bf-e74b07e71a05"
      },
      "execution_count": 12,
      "outputs": [
        {
          "output_type": "stream",
          "name": "stdout",
          "text": [
            "Minimum MSE:  0.7937151193618774\n"
          ]
        },
        {
          "output_type": "display_data",
          "data": {
            "text/plain": [
              "<Figure size 640x480 with 1 Axes>"
            ],
            "image/png": "[encoded data removed]"
          },
          "metadata": {}
        }
      ]
    },
    {
      "cell_type": "code",
      "source": [],
      "metadata": {
        "id": "EFd5KhxTlZr0"
      },
      "execution_count": null,
      "outputs": []
    }
  ]
}