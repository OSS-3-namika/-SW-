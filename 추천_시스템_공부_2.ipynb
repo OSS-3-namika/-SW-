{
  "nbformat": 4,
  "nbformat_minor": 0,
  "metadata": {
    "colab": {
      "provenance": []
    },
    "kernelspec": {
      "name": "python3",
      "display_name": "Python 3"
    },
    "language_info": {
      "name": "python"
    }
  },
  "cells": [
    {
      "cell_type": "code",
      "execution_count": 12,
      "metadata": {
        "colab": {
          "base_uri": "https://localhost:8080/"
        },
        "id": "6mylBNaMTLG5",
        "outputId": "b6ebccaf-c51b-41f2-84c8-2d44e56d4c5b"
      },
      "outputs": [
        {
          "output_type": "stream",
          "name": "stdout",
          "text": [
            "점심 추천기 프로그램입니다!\n",
            "\n",
            "메뉴판\n",
            "======================\n",
            "갈비탕            10000원 \n",
            "떡볶이             7000원\n",
            "오뎅              5000원\n",
            "감자탕             8000원\n",
            "김치찌개            8000원\n",
            "제육볶음            7000원\n",
            "김치볶음밥           5000원\n",
            "======================\n",
            "\n"
          ]
        }
      ],
      "source": [
        "print(\"점심 추천기 프로그램입니다!\")\n",
        "\n",
        "print('''\n",
        "메뉴판\n",
        "======================\n",
        "{0:<10}{1:>10}{won} \n",
        "{2:<10}{3:>10}{won}\n",
        "{4:<10}{5:>10}{won}\n",
        "{6:<10}{7:>10}{won}\n",
        "{8:<10}{9:>10}{won}\n",
        "{10:<10}{11:>10}{won}\n",
        "{12:<10}{13:>10}{won}\n",
        "======================\n",
        "'''.format('갈비탕', 10000,\n",
        "           '떡볶이', 7000,\n",
        "           '오뎅', 5000,\n",
        "           '감자탕', 8000,\n",
        "           '김치찌개', 8000,\n",
        "           '제육볶음', 7000,\n",
        "           '김치볶음밥', 5000, won=\"원\"))"
      ]
    },
    {
      "cell_type": "code",
      "source": [
        "my_list = list()"
      ],
      "metadata": {
        "id": "s9emjC6GTuPa"
      },
      "execution_count": 13,
      "outputs": []
    },
    {
      "cell_type": "code",
      "source": [
        "prices = [10000, 7000, 5000, 8000, 8000, 7000, 5000]"
      ],
      "metadata": {
        "id": "iKEqhD49T7gf"
      },
      "execution_count": 14,
      "outputs": []
    },
    {
      "cell_type": "code",
      "source": [
        "menus = list()\n",
        "menus.append(\"갈비탕\")\n",
        "menus.append(\"떡볶이\")\n",
        "menus.append(\"오뎅\")\n",
        "menus.append(\"감자탕\")\n",
        "menus.append(\"김치찌개\")\n",
        "menus.append(\"제육볶음\")\n",
        "menus.append(\"김치볶음밥\")"
      ],
      "metadata": {
        "id": "kJ-gg7rCUY0m"
      },
      "execution_count": 15,
      "outputs": []
    },
    {
      "cell_type": "code",
      "source": [
        "print('''\n",
        "메뉴판\n",
        "======================\n",
        "{0:<10}{1:>10}{won} \n",
        "{2:<10}{3:>10}{won}\n",
        "{4:<10}{5:>10}{won}\n",
        "{6:<10}{7:>10}{won}\n",
        "{8:<10}{9:>10}{won}\n",
        "{10:<10}{11:>10}{won}\n",
        "{12:<10}{13:>10}{won}\n",
        "======================\n",
        "'''.format(menus[0], prices[0],\n",
        "           menus[1], prices[1],\n",
        "           menus[2], prices[2],\n",
        "           menus[3], prices[3],\n",
        "           menus[4], prices[4],\n",
        "           menus[5], prices[5],\n",
        "           menus[6], prices[6], won=\"원\"))"
      ],
      "metadata": {
        "colab": {
          "base_uri": "https://localhost:8080/"
        },
        "id": "ss8_7ul-UaTI",
        "outputId": "04589d4b-b4d6-4afb-abd6-2582937b7e01"
      },
      "execution_count": 16,
      "outputs": [
        {
          "output_type": "stream",
          "name": "stdout",
          "text": [
            "\n",
            "메뉴판\n",
            "======================\n",
            "갈비탕            10000원 \n",
            "떡볶이             7000원\n",
            "오뎅              5000원\n",
            "감자탕             8000원\n",
            "김치찌개            8000원\n",
            "제육볶음            7000원\n",
            "김치볶음밥           5000원\n",
            "======================\n",
            "\n"
          ]
        }
      ]
    },
    {
      "cell_type": "code",
      "source": [
        "import random"
      ],
      "metadata": {
        "id": "9DOTY17PUcr0"
      },
      "execution_count": 17,
      "outputs": []
    },
    {
      "cell_type": "code",
      "source": [
        "choice = random.randrange(0,len(menus))"
      ],
      "metadata": {
        "id": "Eewiy4bIVhw2"
      },
      "execution_count": 18,
      "outputs": []
    },
    {
      "cell_type": "code",
      "source": [
        "print(\"오늘의 메뉴 선택 : {0}\".format(menus[choice]))\n",
        "print(\"메뉴의 가격 : {0}\".format(prices[choice]))"
      ],
      "metadata": {
        "colab": {
          "base_uri": "https://localhost:8080/"
        },
        "id": "0haimaOuVopc",
        "outputId": "7aac1417-54b9-44eb-916f-dc0d5d2d9418"
      },
      "execution_count": 19,
      "outputs": [
        {
          "output_type": "stream",
          "name": "stdout",
          "text": [
            "오늘의 메뉴 선택 : 갈비탕\n",
            "메뉴의 가격 : 10000\n"
          ]
        }
      ]
    },
    {
      "cell_type": "code",
      "source": [
        "# https://book.coalastudy.com/python-basic/"
      ],
      "metadata": {
        "id": "lLQkPMJIV49Z"
      },
      "execution_count": 20,
      "outputs": []
    }
  ]
}