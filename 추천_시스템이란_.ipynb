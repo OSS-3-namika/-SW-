{
  "nbformat": 4,
  "nbformat_minor": 0,
  "metadata": {
    "colab": {
      "provenance": []
    },
    "kernelspec": {
      "name": "python3",
      "display_name": "Python 3"
    },
    "language_info": {
      "name": "python"
    }
  },
  "cells": [
    {
      "cell_type": "markdown",
      "source": [
        "[추천시스템이란?](https://pearlluck.tistory.com/665)"
      ],
      "metadata": {
        "id": "p11fUdtS-TaB"
      }
    },
    {
      "cell_type": "markdown",
      "source": [
        "# 추천 시스템이란?\n",
        "추천 시스템을 통해 사용자의 취향을 파악하고, 그 취향에 따라 상품 등을 추천해줄 수 있다. \n",
        "그래서 사용자가 해당상품을 구해말 확률이 높아져서 친사용자이며 친기업 서비스가 될 수 있는 강력한 시스템이다. \n",
        "\n",
        "대표적으로 유튜브나 왓챠, 넷풀릭스에서 적용하고 있는 추천 시스템, 자산도 몰랐던 자기의 취향을 알려준다. \n",
        "이런 추천 시스템을 경험한 사용자는 높은 확률로 충성고객이 되며, 사용자 유입도 많아지게 되서 점점 더 견고해지는 추천서비스가 될 수 있다. "
      ],
      "metadata": {
        "id": "JPWnl2Wo-TuL"
      }
    }
  ]
}